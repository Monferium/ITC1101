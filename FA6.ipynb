{
 "cells": [
  {
   "cell_type": "markdown",
   "metadata": {},
   "source": [
    "# Exponentiation Calculator"
   ]
  },
  {
   "cell_type": "markdown",
   "metadata": {},
   "source": [
    "### Create an exponent calculator using both iterations and recursion, with rendering time.\n",
    "\n",
    "Note:\n",
    "\n",
    "In this project, you define two functions: iterative_exponent and recursive_exponent, which calculate the exponent of a given base using iteration and recursion respectively. You then take user input for the base and exponent and use both functions to calculate the exponent.\n",
    "\n",
    "You may use the time module to measure the rendering time of each calculation. You may start a timer before each calculation and stop it afterwards, then calculate the difference between the two times to get the rendering time.\n",
    "\n",
    "The final display should print out the results and the rendering time for each calculation."
   ]
  },
  {
   "cell_type": "code",
   "execution_count": 5,
   "metadata": {},
   "outputs": [
    {
     "name": "stdout",
     "output_type": "stream",
     "text": [
      "Enter the base: -3\n",
      "Enter the exponent: -3\n",
      "\n",
      "\n",
      "Iterative result: -0.037037037037037035,\n",
      "Rendering time:  0.000000000000000 seconds\n",
      "\n",
      "\n",
      "Recursive result: -0.037037037037037035,\n",
      "Rendering time:  0.000000000000000 seconds\n"
     ]
    }
   ],
   "source": [
    "base = int(input(\"Enter the base: \"))\n",
    "exp = int(input(\"Enter the exponent: \"))\n",
    "\n",
    "import time\n",
    "\n",
    "def iterative_exponent(base, exp):\n",
    "    start_time = time.time() # start the timer\n",
    "    result = 1\n",
    "    if base == 0 and exp < 0:\n",
    "        #force stop the while loop since the value output is already undefined\n",
    "        result = \"undefined\"\n",
    "        return result, 0.0\n",
    "    elif exp < 0:\n",
    "        base = base/base**2\n",
    "        exp = abs(exp)\n",
    "    for i in range(exp):\n",
    "        result *= base\n",
    "    end_time = time.time() # stop the timer\n",
    "    rendering_time = end_time - start_time\n",
    "    rendering_time = float(rendering_time)\n",
    "    return result, rendering_time\n",
    "\n",
    "def recursive_exponent(base, exp):\n",
    "    if base == 0 and exp < 0:\n",
    "        return \"undefined\", 0.0\n",
    "    \n",
    "    start_time = time.time()\n",
    "    \n",
    "    if exp == 0:\n",
    "        return 1, 0.0\n",
    "    elif exp < 0:\n",
    "        base = base / base**2\n",
    "        exp = abs(exp)\n",
    "    \n",
    "    half_exp = exp // 2\n",
    "    half_result, _ = recursive_exponent(base, half_exp)\n",
    "    \n",
    "    if exp % 2 == 0:\n",
    "        result = half_result * half_result\n",
    "    else:\n",
    "        result = half_result * half_result * base\n",
    "        \n",
    "    end_time = time.time()\n",
    "    rendering_time = end_time - start_time\n",
    "    rendering_time = float(rendering_time)\n",
    "    return result, rendering_time\n",
    "\n",
    "iter_result, iter_time = iterative_exponent(base, exp)\n",
    "print(f\"\\n\\nIterative result: {iter_result},\\nRendering time: {iter_time: .15f} seconds\")\n",
    "\n",
    "recur_result, recur_time = recursive_exponent(base, exp)\n",
    "print(f\"\\n\\nRecursive result: {recur_result},\\nRendering time: {recur_time: .15f} seconds\")"
   ]
  },
  {
   "cell_type": "markdown",
   "metadata": {},
   "source": [
    "### Question:\n",
    "\n",
    "Which of the two functions performs faster? And why is it performing faster?"
   ]
  },
  {
   "cell_type": "code",
   "execution_count": 6,
   "metadata": {},
   "outputs": [
    {
     "name": "stdout",
     "output_type": "stream",
     "text": [
      "It is an indeed coincidence, since both process has been finished with same millisecond remarks\n"
     ]
    }
   ],
   "source": [
    "#To determine the answer of the problem, we compare the two rendering results:\n",
    "if iter_time > recur_time:\n",
    "    print(\"We may conclude that iteration process is much faster than recursion in terms of millisecond comparison\")\n",
    "elif iter_time < recur_time:\n",
    "    print(\"We may conclude that recursion process is much faster than iteration in terms of millisecond comparison\")\n",
    "else:\n",
    "    print(\"It is an indeed coincidence, since both process has been finished with same millisecond remarks\")"
   ]
  },
  {
   "cell_type": "markdown",
   "metadata": {},
   "source": [
    "Iteratively and recursively calculate the sum of the first n powers of 2, along with the rendering time of each function using the time module.\n",
    "\n",
    "Note: Use user input for me to check the process."
   ]
  },
  {
   "cell_type": "code",
   "execution_count": 7,
   "metadata": {},
   "outputs": [
    {
     "name": "stdout",
     "output_type": "stream",
     "text": [
      "Enter a positive integer value for n: 20\n",
      "Iterative sum of first 20 powers of 2: 1048575\n",
      "Iterative rendering time: 0.0000000000 seconds\n",
      "Recursive sum of first 20 powers of 2: 1048575\n",
      "Recursive rendering time: 0.0000000000 seconds\n"
     ]
    }
   ],
   "source": [
    "n = int(input(\"Enter a positive integer value for n: \"))\n",
    "\n",
    "import time\n",
    "\n",
    "def iterative_sum(n):\n",
    "    start_time = time.time()\n",
    "    sum = 0\n",
    "    for i in range(n):\n",
    "        sum += 2 ** i\n",
    "    end_time = time.time()\n",
    "    rendering_time = end_time - start_time\n",
    "    return sum, rendering_time\n",
    "\n",
    "def recursive_sum(n):\n",
    "    start_time = time.time()\n",
    "    if n == 0:\n",
    "        sum = 0\n",
    "    else:\n",
    "        sum = 2 ** (n-1) + recursive_sum(n-1)[0]\n",
    "    end_time = time.time()\n",
    "    rendering_time = end_time - start_time\n",
    "    return sum, rendering_time\n",
    "\n",
    "\n",
    "\n",
    "iter_sum, iter_time = iterative_sum(n)\n",
    "print(f\"Iterative sum of first {n} powers of 2: {iter_sum}\")\n",
    "print(f\"Iterative rendering time: {iter_time:.10f} seconds\")\n",
    "\n",
    "recur_sum, recur_time = recursive_sum(n)\n",
    "print(f\"Recursive sum of first {n} powers of 2: {recur_sum}\")\n",
    "print(f\"Recursive rendering time: {recur_time:.10f} seconds\")"
   ]
  },
  {
   "cell_type": "code",
   "execution_count": null,
   "metadata": {},
   "outputs": [],
   "source": []
  }
 ],
 "metadata": {
  "kernelspec": {
   "display_name": "Python 3",
   "language": "python",
   "name": "python3"
  },
  "language_info": {
   "codemirror_mode": {
    "name": "ipython",
    "version": 3
   },
   "file_extension": ".py",
   "mimetype": "text/x-python",
   "name": "python",
   "nbconvert_exporter": "python",
   "pygments_lexer": "ipython3",
   "version": "3.7.0"
  }
 },
 "nbformat": 4,
 "nbformat_minor": 2
}
